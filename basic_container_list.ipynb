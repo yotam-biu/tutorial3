{
  "cells": [
    {
      "cell_type": "markdown",
      "metadata": {
        "id": "view-in-github",
        "colab_type": "text"
      },
      "source": [
        "<a href=\"https://colab.research.google.com/github/yotam-biu/tutorial3/blob/main/basic_container_list.ipynb\" target=\"_parent\"><img src=\"https://colab.research.google.com/assets/colab-badge.svg\" alt=\"Open In Colab\"/></a>"
      ]
    },
    {
      "cell_type": "markdown",
      "id": "28a0419f",
      "metadata": {
        "id": "28a0419f"
      },
      "source": [
        "# Container: List"
      ]
    },
    {
      "cell_type": "markdown",
      "id": "46bb59d9",
      "metadata": {
        "id": "46bb59d9"
      },
      "source": [
        "### 1.1 Quick Start"
      ]
    },
    {
      "cell_type": "code",
      "execution_count": null,
      "id": "78a05ca6",
      "metadata": {
        "id": "78a05ca6"
      },
      "outputs": [],
      "source": [
        "my_list = [2,20,300,4000]\n",
        "my_list[1]"
      ]
    },
    {
      "cell_type": "code",
      "execution_count": null,
      "id": "e8f5790e",
      "metadata": {
        "id": "e8f5790e"
      },
      "outputs": [],
      "source": [
        "my_list[2] = 'hi'\n",
        "my_list"
      ]
    },
    {
      "cell_type": "code",
      "execution_count": null,
      "id": "e4f3bf68",
      "metadata": {
        "id": "e4f3bf68"
      },
      "outputs": [],
      "source": [
        "my_list[-1]"
      ]
    },
    {
      "cell_type": "markdown",
      "id": "a1b35006",
      "metadata": {
        "id": "a1b35006"
      },
      "source": [
        "### 1.2 Slicing"
      ]
    },
    {
      "cell_type": "code",
      "execution_count": null,
      "id": "ce0d0661",
      "metadata": {
        "id": "ce0d0661"
      },
      "outputs": [],
      "source": [
        "my_list[1:]"
      ]
    },
    {
      "cell_type": "code",
      "execution_count": null,
      "id": "b2cc3bfd",
      "metadata": {
        "id": "b2cc3bfd"
      },
      "outputs": [],
      "source": [
        "my_list[:1]"
      ]
    },
    {
      "cell_type": "code",
      "execution_count": null,
      "id": "933dc544",
      "metadata": {
        "id": "933dc544"
      },
      "outputs": [],
      "source": [
        "my_list_duplicate = my_list*2\n",
        "my_list_duplicate"
      ]
    },
    {
      "cell_type": "code",
      "execution_count": null,
      "id": "a951417d",
      "metadata": {
        "id": "a951417d"
      },
      "outputs": [],
      "source": [
        "my_list_duplicate[::2]"
      ]
    },
    {
      "cell_type": "code",
      "execution_count": null,
      "id": "5014cde2",
      "metadata": {
        "id": "5014cde2"
      },
      "outputs": [],
      "source": [
        "my_list_duplicate[2:-2:2]"
      ]
    },
    {
      "cell_type": "markdown",
      "id": "a298149f",
      "metadata": {
        "id": "a298149f"
      },
      "source": [
        "### 1.3 'in' operator"
      ]
    },
    {
      "cell_type": "code",
      "execution_count": null,
      "id": "6b499c19",
      "metadata": {
        "id": "6b499c19"
      },
      "outputs": [],
      "source": [
        "my_animals = ['cat', 'dog', 'monkey']\n",
        "'cat' in my_animals"
      ]
    },
    {
      "cell_type": "code",
      "execution_count": null,
      "id": "df67e411",
      "metadata": {
        "id": "df67e411"
      },
      "outputs": [],
      "source": [
        "'Cat' in my_animals"
      ]
    },
    {
      "cell_type": "code",
      "execution_count": null,
      "id": "8989a0d0",
      "metadata": {
        "id": "8989a0d0"
      },
      "outputs": [],
      "source": [
        "for animal in my_animals:\n",
        "    print(animal)"
      ]
    },
    {
      "cell_type": "markdown",
      "id": "d4e0b239",
      "metadata": {
        "id": "d4e0b239"
      },
      "source": [
        "### 1.4 build-in list functions"
      ]
    },
    {
      "cell_type": "code",
      "execution_count": null,
      "id": "3b8a264b",
      "metadata": {
        "id": "3b8a264b"
      },
      "outputs": [],
      "source": [
        "my_list = [1, 2, 3]\n",
        "my_list.append(4)\n",
        "print(my_list)  # [1, 2, 3, 4]"
      ]
    },
    {
      "cell_type": "code",
      "execution_count": null,
      "id": "48a9bc17",
      "metadata": {
        "id": "48a9bc17"
      },
      "outputs": [],
      "source": [
        "my_list = [1, 2, 3]\n",
        "my_list.extend([4, 5, 6])\n",
        "print(my_list)  # [1, 2, 3, 4, 5, 6]\n"
      ]
    },
    {
      "cell_type": "code",
      "execution_count": null,
      "id": "18bedd9a",
      "metadata": {
        "id": "18bedd9a"
      },
      "outputs": [],
      "source": [
        "my_list = [1, 2, 3]\n",
        "my_list.insert(1, 4)\n",
        "print(my_list)  # [1, 4, 2, 3]\n"
      ]
    },
    {
      "cell_type": "code",
      "execution_count": null,
      "id": "b55301b8",
      "metadata": {
        "id": "b55301b8"
      },
      "outputs": [],
      "source": [
        "my_list = [1, 2, 3, 2]\n",
        "my_list.remove(2)\n",
        "print(my_list)  # [1, 3, 2]\n"
      ]
    },
    {
      "cell_type": "code",
      "execution_count": null,
      "id": "16f3d509",
      "metadata": {
        "id": "16f3d509"
      },
      "outputs": [],
      "source": [
        "my_list = [1, 2, 3]\n",
        "element = my_list.pop(1)\n",
        "print(element)  # 2\n",
        "print(my_list)  # [1, 3]\n"
      ]
    },
    {
      "cell_type": "code",
      "execution_count": null,
      "id": "c6090112",
      "metadata": {
        "id": "c6090112"
      },
      "outputs": [],
      "source": [
        "my_list = [1, 2, 3, 2]\n",
        "my_list.remove(2)\n",
        "print(my_list)  # [1, 3, 2]\n"
      ]
    },
    {
      "cell_type": "code",
      "execution_count": null,
      "id": "29270cd0",
      "metadata": {
        "id": "29270cd0"
      },
      "outputs": [],
      "source": [
        "my_list = [1, 2, 3, 2]\n",
        "count = my_list.count(2)\n",
        "print(count)  # 2"
      ]
    },
    {
      "cell_type": "code",
      "execution_count": null,
      "id": "22aa499a",
      "metadata": {
        "id": "22aa499a"
      },
      "outputs": [],
      "source": [
        "my_list = [3, 2, 1]\n",
        "my_list.sort()\n",
        "print(my_list)  # [1, 2, 3]"
      ]
    },
    {
      "cell_type": "code",
      "execution_count": null,
      "id": "9049ffa7",
      "metadata": {
        "id": "9049ffa7"
      },
      "outputs": [],
      "source": [
        "my_list = [1, 2, 3]\n",
        "my_list.reverse()\n",
        "print(my_list)  # [3, 2, 1]\n"
      ]
    },
    {
      "cell_type": "markdown",
      "id": "2da7740c",
      "metadata": {
        "id": "2da7740c"
      },
      "source": [
        "### 1.5 build in python function"
      ]
    },
    {
      "cell_type": "code",
      "execution_count": null,
      "id": "0400ca3b",
      "metadata": {
        "id": "0400ca3b"
      },
      "outputs": [],
      "source": [
        "list(range(2,7))"
      ]
    },
    {
      "cell_type": "code",
      "execution_count": null,
      "id": "bd2213a4",
      "metadata": {
        "id": "bd2213a4"
      },
      "outputs": [],
      "source": [
        "my_list = [1, 2, 3, 4, 5]\n",
        "length = len(my_list)\n",
        "print(length)  # 5\n"
      ]
    },
    {
      "cell_type": "code",
      "execution_count": null,
      "id": "e1bc09a4",
      "metadata": {
        "id": "e1bc09a4"
      },
      "outputs": [],
      "source": [
        "my_list = [1, 2, 3, 4, 5]\n",
        "total = sum(my_list)\n",
        "print(total)  # 15\n"
      ]
    },
    {
      "cell_type": "code",
      "execution_count": null,
      "id": "d6f2b852",
      "metadata": {
        "id": "d6f2b852"
      },
      "outputs": [],
      "source": [
        "my_list = [1, 2, 3, 4, 5]\n",
        "maximum = max(my_list)\n",
        "print(maximum)  # 5\n"
      ]
    },
    {
      "cell_type": "code",
      "execution_count": null,
      "id": "f24807b8",
      "metadata": {
        "id": "f24807b8"
      },
      "outputs": [],
      "source": [
        "my_list = [1, 2, 3, 4, 5]\n",
        "minimum = min(my_list)\n",
        "print(minimum)  # 1\n"
      ]
    },
    {
      "cell_type": "code",
      "execution_count": null,
      "id": "f8d18b4c",
      "metadata": {
        "id": "f8d18b4c"
      },
      "outputs": [],
      "source": [
        "my_list = [3, 2, 1, 5, 4]\n",
        "new_list = sorted(my_list)\n",
        "print(new_list)  # [1, 2, 3, 4, 5]\n"
      ]
    },
    {
      "cell_type": "code",
      "execution_count": null,
      "id": "8eb45bb3",
      "metadata": {
        "id": "8eb45bb3"
      },
      "outputs": [],
      "source": [
        "my_list = [1, 2, 3, 4, 5]\n",
        "new_list = list(reversed(my_list))\n",
        "print(new_list)  # [5, 4, 3, 2, 1]\n"
      ]
    },
    {
      "cell_type": "code",
      "execution_count": null,
      "id": "f594414d",
      "metadata": {
        "id": "f594414d"
      },
      "outputs": [],
      "source": [
        "my_list = [False, False, True, False]\n",
        "result = any(my_list)\n",
        "print(result)  # True\n"
      ]
    },
    {
      "cell_type": "code",
      "execution_count": null,
      "id": "140ab615",
      "metadata": {
        "id": "140ab615"
      },
      "outputs": [],
      "source": [
        "my_list = [True, True, False, True]\n",
        "result = all(my_list)\n",
        "print(result)  # False\n"
      ]
    },
    {
      "cell_type": "markdown",
      "id": "34bb5e4d",
      "metadata": {
        "id": "34bb5e4d"
      },
      "source": [
        "### 1.6 Bulid a list and the function `range`"
      ]
    },
    {
      "cell_type": "code",
      "execution_count": null,
      "id": "e57c8596",
      "metadata": {
        "id": "e57c8596"
      },
      "outputs": [],
      "source": [
        "nums = [0, 1, 2, 3, 4]\n",
        "squares = []\n",
        "for x in nums:\n",
        "    squares.append(x ** 2)\n",
        "print(squares)"
      ]
    },
    {
      "cell_type": "code",
      "source": [
        "squares = []\n",
        "for x in range(5):\n",
        "    squares.append(x ** 2)\n",
        "print(squares)"
      ],
      "metadata": {
        "id": "NaMfki_wQGs3"
      },
      "id": "NaMfki_wQGs3",
      "execution_count": null,
      "outputs": []
    },
    {
      "cell_type": "code",
      "source": [
        "import matplotlib.pyplot as plt\n",
        "\n",
        "plt.plot(nums, squares, marker='o')"
      ],
      "metadata": {
        "id": "xBsoenLJ0veV"
      },
      "id": "xBsoenLJ0veV",
      "execution_count": null,
      "outputs": []
    },
    {
      "cell_type": "code",
      "source": [
        "nums = list(range(5))\n",
        "squares = [x ** 2 for x in nums]\n",
        "print(squares)"
      ],
      "metadata": {
        "id": "vVfkwVW-QNgM"
      },
      "id": "vVfkwVW-QNgM",
      "execution_count": null,
      "outputs": []
    }
  ],
  "metadata": {
    "kernelspec": {
      "display_name": "Python 3 (ipykernel)",
      "language": "python",
      "name": "python3"
    },
    "language_info": {
      "codemirror_mode": {
        "name": "ipython",
        "version": 3
      },
      "file_extension": ".py",
      "mimetype": "text/x-python",
      "name": "python",
      "nbconvert_exporter": "python",
      "pygments_lexer": "ipython3",
      "version": "3.9.16"
    },
    "colab": {
      "provenance": [],
      "include_colab_link": true
    }
  },
  "nbformat": 4,
  "nbformat_minor": 5
}