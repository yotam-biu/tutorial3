{
  "nbformat": 4,
  "nbformat_minor": 0,
  "metadata": {
    "colab": {
      "provenance": [],
      "authorship_tag": "ABX9TyMloZgi8dWgFF7t6Rsp4GFa",
      "include_colab_link": true
    },
    "kernelspec": {
      "name": "python3",
      "display_name": "Python 3"
    },
    "language_info": {
      "name": "python"
    }
  },
  "cells": [
    {
      "cell_type": "markdown",
      "metadata": {
        "id": "view-in-github",
        "colab_type": "text"
      },
      "source": [
        "<a href=\"https://colab.research.google.com/github/yotam-biu/tutorial3/blob/main/monte_carlo_exercise.ipynb\" target=\"_parent\"><img src=\"https://colab.research.google.com/assets/colab-badge.svg\" alt=\"Open In Colab\"/></a>"
      ]
    },
    {
      "cell_type": "markdown",
      "source": [
        "**Problem Set: Calculate π Using the Monte Carlo Method**\n",
        "\n",
        "The Monte Carlo method estimates the value of π by simulating random points in a square and determining how many fall inside a quarter circle. The basic idea is:\n",
        "\n",
        "1. Generate random points in a square.\n",
        "2. Count how many fall inside a quarter circle inscribed within the square.\n",
        "3. The ratio of points inside the circle to total points is proportional to the area of the quarter circle, which can be used to estimate π.\n",
        "\n",
        "The area of a square with side length 1 is 1, and the area of the quarter circle is π/4. Therefore:\n",
        "\n",
        "$$\n",
        "\\frac{\\text{points inside the circle}}{\\text{total points}} \\approx \\frac{\\pi}{4}\n",
        "$$\n",
        "\n",
        "From this, we can estimate π as:\n",
        "\n",
        "$$\n",
        "\\pi \\approx 4 \\cdot \\frac{\\text{points inside the circle}}{\\text{total points}}\n",
        "$$\n",
        "\n",
        "### Task\n",
        "\n",
        "Write a function `estimate_pi(num_points)` that estimates the value of π using the Monte Carlo method. The function should take an integer `num_points` (the number of random points to generate) and return the estimated value of π.\n",
        "\n",
        "1. Generate `num_points` random points where both the `x` and `y` coordinates are between 0 and 1.\n",
        "2. Count how many points fall inside the quarter circle, which is defined by the equation $ x^2 + y^2 \\leq R^2 $.\n",
        "3. Use the ratio of points inside the circle to total points to estimate π.\n",
        "4. Return the estimated value of π.\n",
        "\n",
        "### Example\n",
        "\n",
        "```python\n",
        "num_points = 10000\n",
        "estimated_pi = estimate_pi(num_points)\n",
        "print(estimated_pi)\n",
        "\n"
      ],
      "metadata": {
        "id": "1LTlnE9Peqdj"
      }
    },
    {
      "cell_type": "code",
      "execution_count": null,
      "metadata": {
        "id": "6aTJ49vVeBJy"
      },
      "outputs": [],
      "source": []
    }
  ]
}